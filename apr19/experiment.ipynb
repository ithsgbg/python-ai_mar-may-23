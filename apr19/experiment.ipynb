{
 "cells": [
  {
   "cell_type": "code",
   "execution_count": 1,
   "metadata": {},
   "outputs": [],
   "source": [
    "import numpy as np\n",
    "import pandas as pd"
   ]
  },
  {
   "cell_type": "code",
   "execution_count": 7,
   "metadata": {},
   "outputs": [],
   "source": [
    "start_date = '2018-01-01'\n",
    "end_date = '2018-12-31'\n",
    "\n",
    "date_times = pd.date_range(start_date, end_date, freq=\"H\")"
   ]
  },
  {
   "cell_type": "code",
   "execution_count": 8,
   "metadata": {},
   "outputs": [
    {
     "data": {
      "text/plain": [
       "DatetimeIndex(['2018-01-01 00:00:00', '2018-01-01 01:00:00',\n",
       "               '2018-01-01 02:00:00', '2018-01-01 03:00:00',\n",
       "               '2018-01-01 04:00:00', '2018-01-01 05:00:00',\n",
       "               '2018-01-01 06:00:00', '2018-01-01 07:00:00',\n",
       "               '2018-01-01 08:00:00', '2018-01-01 09:00:00',\n",
       "               ...\n",
       "               '2018-12-30 15:00:00', '2018-12-30 16:00:00',\n",
       "               '2018-12-30 17:00:00', '2018-12-30 18:00:00',\n",
       "               '2018-12-30 19:00:00', '2018-12-30 20:00:00',\n",
       "               '2018-12-30 21:00:00', '2018-12-30 22:00:00',\n",
       "               '2018-12-30 23:00:00', '2018-12-31 00:00:00'],\n",
       "              dtype='datetime64[ns]', length=8737, freq='H')"
      ]
     },
     "execution_count": 8,
     "metadata": {},
     "output_type": "execute_result"
    }
   ],
   "source": [
    "date_times"
   ]
  },
  {
   "cell_type": "code",
   "execution_count": 9,
   "metadata": {},
   "outputs": [],
   "source": [
    "month = date_times.month\n",
    "hour = date_times.hour"
   ]
  },
  {
   "cell_type": "code",
   "execution_count": 10,
   "metadata": {},
   "outputs": [
    {
     "data": {
      "text/plain": [
       "Int64Index([ 1,  1,  1,  1,  1,  1,  1,  1,  1,  1,\n",
       "            ...\n",
       "            12, 12, 12, 12, 12, 12, 12, 12, 12, 12],\n",
       "           dtype='int64', length=8737)"
      ]
     },
     "execution_count": 10,
     "metadata": {},
     "output_type": "execute_result"
    }
   ],
   "source": [
    "month"
   ]
  },
  {
   "cell_type": "code",
   "execution_count": 11,
   "metadata": {},
   "outputs": [
    {
     "data": {
      "text/plain": [
       "Int64Index([ 0,  1,  2,  3,  4,  5,  6,  7,  8,  9,\n",
       "            ...\n",
       "            15, 16, 17, 18, 19, 20, 21, 22, 23,  0],\n",
       "           dtype='int64', length=8737)"
      ]
     },
     "execution_count": 11,
     "metadata": {},
     "output_type": "execute_result"
    }
   ],
   "source": [
    "hour"
   ]
  },
  {
   "cell_type": "code",
   "execution_count": 12,
   "metadata": {},
   "outputs": [],
   "source": [
    "temp_seasonal = pd.Series((np.sin((month - 1) / 12 * 2 *np.pi) * 15 + 15), index=date_times)"
   ]
  },
  {
   "cell_type": "code",
   "execution_count": 14,
   "metadata": {},
   "outputs": [],
   "source": [
    "temp_seasonal = temp_seasonal.clip(lower=-20, upper=25)"
   ]
  },
  {
   "cell_type": "code",
   "execution_count": 15,
   "metadata": {},
   "outputs": [
    {
     "data": {
      "text/plain": [
       "2018-01-01 00:00:00    15.0\n",
       "2018-01-01 01:00:00    15.0\n",
       "2018-01-01 02:00:00    15.0\n",
       "2018-01-01 03:00:00    15.0\n",
       "2018-01-01 04:00:00    15.0\n",
       "                       ... \n",
       "2018-12-30 20:00:00     7.5\n",
       "2018-12-30 21:00:00     7.5\n",
       "2018-12-30 22:00:00     7.5\n",
       "2018-12-30 23:00:00     7.5\n",
       "2018-12-31 00:00:00     7.5\n",
       "Freq: H, Length: 8737, dtype: float64"
      ]
     },
     "execution_count": 15,
     "metadata": {},
     "output_type": "execute_result"
    }
   ],
   "source": [
    "temp_seasonal"
   ]
  },
  {
   "cell_type": "code",
   "execution_count": 16,
   "metadata": {},
   "outputs": [],
   "source": [
    "temp_diurnal = np.cos((hour - 12) / 24 * 2 * np.pi) * 5"
   ]
  },
  {
   "cell_type": "code",
   "execution_count": 17,
   "metadata": {},
   "outputs": [
    {
     "data": {
      "text/plain": [
       "Float64Index([                 -5.0,    -4.829629131445341,\n",
       "                 -4.330127018922194,   -3.5355339059327373,\n",
       "                 -2.499999999999999,   -1.2940952255126041,\n",
       "              3.061616997868383e-16,    1.2940952255126037,\n",
       "                 2.5000000000000004,    3.5355339059327378,\n",
       "              ...\n",
       "                 3.5355339059327378,    2.5000000000000004,\n",
       "                 1.2940952255126037, 3.061616997868383e-16,\n",
       "                -1.2940952255126041,    -2.499999999999999,\n",
       "                -3.5355339059327373,    -4.330127018922194,\n",
       "                 -4.829629131445341,                  -5.0],\n",
       "             dtype='float64', length=8737)"
      ]
     },
     "execution_count": 17,
     "metadata": {},
     "output_type": "execute_result"
    }
   ],
   "source": [
    "temp_diurnal"
   ]
  },
  {
   "cell_type": "code",
   "execution_count": 18,
   "metadata": {},
   "outputs": [],
   "source": [
    "temp_noise = np.random.normal(0, 2, len(date_times))"
   ]
  },
  {
   "cell_type": "code",
   "execution_count": 19,
   "metadata": {},
   "outputs": [
    {
     "data": {
      "text/plain": [
       "array([ 0.4078779 , -3.77579147, -4.39651545, ...,  1.160649  ,\n",
       "        1.78380114, -1.51638973])"
      ]
     },
     "execution_count": 19,
     "metadata": {},
     "output_type": "execute_result"
    }
   ],
   "source": [
    "temp_noise"
   ]
  },
  {
   "cell_type": "code",
   "execution_count": 20,
   "metadata": {},
   "outputs": [],
   "source": [
    "temp = temp_seasonal + temp_diurnal + temp_noise"
   ]
  },
  {
   "cell_type": "code",
   "execution_count": 21,
   "metadata": {},
   "outputs": [
    {
     "data": {
      "text/plain": [
       "2018-01-01 00:00:00    10.407878\n",
       "2018-01-01 01:00:00     6.394579\n",
       "2018-01-01 02:00:00     6.273358\n",
       "2018-01-01 03:00:00    11.328050\n",
       "2018-01-01 04:00:00    12.516403\n",
       "                         ...    \n",
       "2018-12-30 20:00:00     4.634752\n",
       "2018-12-30 21:00:00     9.660674\n",
       "2018-12-30 22:00:00     4.330522\n",
       "2018-12-30 23:00:00     4.454172\n",
       "2018-12-31 00:00:00     0.983610\n",
       "Freq: H, Length: 8737, dtype: float64"
      ]
     },
     "execution_count": 21,
     "metadata": {},
     "output_type": "execute_result"
    }
   ],
   "source": [
    "temp"
   ]
  }
 ],
 "metadata": {
  "kernelspec": {
   "display_name": "venv",
   "language": "python",
   "name": "python3"
  },
  "language_info": {
   "codemirror_mode": {
    "name": "ipython",
    "version": 3
   },
   "file_extension": ".py",
   "mimetype": "text/x-python",
   "name": "python",
   "nbconvert_exporter": "python",
   "pygments_lexer": "ipython3",
   "version": "3.11.2"
  },
  "orig_nbformat": 4
 },
 "nbformat": 4,
 "nbformat_minor": 2
}
