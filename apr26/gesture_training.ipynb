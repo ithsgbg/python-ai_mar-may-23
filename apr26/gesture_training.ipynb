{
 "cells": [
  {
   "cell_type": "code",
   "execution_count": 8,
   "metadata": {},
   "outputs": [],
   "source": [
    "import matplotlib.pyplot as plt\n",
    "from detecto.utils import read_image\n",
    "from detecto.core import Dataset, Model"
   ]
  },
  {
   "cell_type": "code",
   "execution_count": 7,
   "metadata": {},
   "outputs": [
    {
     "ename": "ValueError",
     "evalue": "Could not read image ./images/grabbed/fingers_crossed/fingers_crossed-4ab10433-e439-11ed-bf23-04421adec05c.jpg",
     "output_type": "error",
     "traceback": [
      "\u001b[1;31m---------------------------------------------------------------------------\u001b[0m",
      "\u001b[1;31mValueError\u001b[0m                                Traceback (most recent call last)",
      "Cell \u001b[1;32mIn[7], line 1\u001b[0m\n\u001b[1;32m----> 1\u001b[0m img \u001b[39m=\u001b[39m read_image(\u001b[39m'\u001b[39;49m\u001b[39m./images/grabbed/fingers_crossed/fingers_crossed-4ab10433-e439-11ed-bf23-04421adec05c.jpg\u001b[39;49m\u001b[39m'\u001b[39;49m)\n",
      "File \u001b[1;32mc:\\code\\iths2\\python-ai_mar-may-23\\venv\\Lib\\site-packages\\detecto\\utils.py:133\u001b[0m, in \u001b[0;36mread_image\u001b[1;34m(path)\u001b[0m\n\u001b[0;32m    113\u001b[0m \u001b[39m\u001b[39m\u001b[39m\"\"\"Helper function that reads in an image as a\u001b[39;00m\n\u001b[0;32m    114\u001b[0m \u001b[39m`NumPy <https://numpy.org/>`_ array. Equivalent to using\u001b[39;00m\n\u001b[0;32m    115\u001b[0m \u001b[39m`OpenCV <https://docs.opencv.org/master/>`_'s cv2.imread\u001b[39;00m\n\u001b[1;32m   (...)\u001b[0m\n\u001b[0;32m    130\u001b[0m \u001b[39m    >>> plt.show()\u001b[39;00m\n\u001b[0;32m    131\u001b[0m \u001b[39m\"\"\"\u001b[39;00m\n\u001b[0;32m    132\u001b[0m \u001b[39mif\u001b[39;00m \u001b[39mnot\u001b[39;00m os\u001b[39m.\u001b[39mpath\u001b[39m.\u001b[39misfile(path):\n\u001b[1;32m--> 133\u001b[0m     \u001b[39mraise\u001b[39;00m \u001b[39mValueError\u001b[39;00m(\u001b[39mf\u001b[39m\u001b[39m'\u001b[39m\u001b[39mCould not read image \u001b[39m\u001b[39m{\u001b[39;00mpath\u001b[39m}\u001b[39;00m\u001b[39m'\u001b[39m)\n\u001b[0;32m    135\u001b[0m image \u001b[39m=\u001b[39m cv2\u001b[39m.\u001b[39mimread(path)\n\u001b[0;32m    137\u001b[0m \u001b[39mtry\u001b[39;00m:\n",
      "\u001b[1;31mValueError\u001b[0m: Could not read image ./images/grabbed/fingers_crossed/fingers_crossed-4ab10433-e439-11ed-bf23-04421adec05c.jpg"
     ]
    }
   ],
   "source": [
    "img = read_image('./images/grabbed/fingers_crossed/fingers_crossed-4ab10433-e439-11ed-bf23-04421adec05c.jpg')\n",
    "plt.imshow(img)\n",
    "plt.show()"
   ]
  },
  {
   "cell_type": "code",
   "execution_count": null,
   "metadata": {},
   "outputs": [],
   "source": [
    "dataset = Dataset('./data')"
   ]
  },
  {
   "cell_type": "code",
   "execution_count": null,
   "metadata": {},
   "outputs": [],
   "source": [
    "model = Model(['FingersCrossed', 'Hello', 'ThumbsUp', 'ThumbsDown'])"
   ]
  },
  {
   "cell_type": "code",
   "execution_count": null,
   "metadata": {},
   "outputs": [],
   "source": [
    "model.fit(dataset)"
   ]
  }
 ],
 "metadata": {
  "kernelspec": {
   "display_name": "venv",
   "language": "python",
   "name": "python3"
  },
  "language_info": {
   "codemirror_mode": {
    "name": "ipython",
    "version": 3
   },
   "file_extension": ".py",
   "mimetype": "text/x-python",
   "name": "python",
   "nbconvert_exporter": "python",
   "pygments_lexer": "ipython3",
   "version": "3.11.2"
  },
  "orig_nbformat": 4
 },
 "nbformat": 4,
 "nbformat_minor": 2
}
