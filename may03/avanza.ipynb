{
 "cells": [
  {
   "cell_type": "code",
   "execution_count": 1,
   "metadata": {},
   "outputs": [],
   "source": [
    "import pandas as pd"
   ]
  },
  {
   "cell_type": "code",
   "execution_count": 3,
   "metadata": {},
   "outputs": [
    {
     "data": {
      "text/html": [
       "<div>\n",
       "<style scoped>\n",
       "    .dataframe tbody tr th:only-of-type {\n",
       "        vertical-align: middle;\n",
       "    }\n",
       "\n",
       "    .dataframe tbody tr th {\n",
       "        vertical-align: top;\n",
       "    }\n",
       "\n",
       "    .dataframe thead th {\n",
       "        text-align: right;\n",
       "    }\n",
       "</style>\n",
       "<table border=\"1\" class=\"dataframe\">\n",
       "  <thead>\n",
       "    <tr style=\"text-align: right;\">\n",
       "      <th></th>\n",
       "      <th>id</th>\n",
       "      <th>time</th>\n",
       "      <th>change_percent</th>\n",
       "      <th>last_price</th>\n",
       "    </tr>\n",
       "  </thead>\n",
       "  <tbody>\n",
       "    <tr>\n",
       "      <th>0</th>\n",
       "      <td>1</td>\n",
       "      <td>16:28:20</td>\n",
       "      <td>0.31</td>\n",
       "      <td>2667.48</td>\n",
       "    </tr>\n",
       "    <tr>\n",
       "      <th>1</th>\n",
       "      <td>2</td>\n",
       "      <td>16:28:20</td>\n",
       "      <td>0.31</td>\n",
       "      <td>2667.48</td>\n",
       "    </tr>\n",
       "    <tr>\n",
       "      <th>2</th>\n",
       "      <td>3</td>\n",
       "      <td>16:28:20</td>\n",
       "      <td>0.31</td>\n",
       "      <td>2667.48</td>\n",
       "    </tr>\n",
       "    <tr>\n",
       "      <th>3</th>\n",
       "      <td>4</td>\n",
       "      <td>16:29:20</td>\n",
       "      <td>0.25</td>\n",
       "      <td>2665.90</td>\n",
       "    </tr>\n",
       "    <tr>\n",
       "      <th>4</th>\n",
       "      <td>5</td>\n",
       "      <td>16:29:20</td>\n",
       "      <td>0.25</td>\n",
       "      <td>2665.90</td>\n",
       "    </tr>\n",
       "    <tr>\n",
       "      <th>5</th>\n",
       "      <td>6</td>\n",
       "      <td>16:29:20</td>\n",
       "      <td>0.25</td>\n",
       "      <td>2665.90</td>\n",
       "    </tr>\n",
       "    <tr>\n",
       "      <th>6</th>\n",
       "      <td>7</td>\n",
       "      <td>16:29:20</td>\n",
       "      <td>0.25</td>\n",
       "      <td>2665.90</td>\n",
       "    </tr>\n",
       "    <tr>\n",
       "      <th>7</th>\n",
       "      <td>8</td>\n",
       "      <td>16:29:20</td>\n",
       "      <td>0.25</td>\n",
       "      <td>2665.90</td>\n",
       "    </tr>\n",
       "    <tr>\n",
       "      <th>8</th>\n",
       "      <td>9</td>\n",
       "      <td>16:30:20</td>\n",
       "      <td>0.24</td>\n",
       "      <td>2665.39</td>\n",
       "    </tr>\n",
       "    <tr>\n",
       "      <th>9</th>\n",
       "      <td>10</td>\n",
       "      <td>16:30:20</td>\n",
       "      <td>0.24</td>\n",
       "      <td>2665.39</td>\n",
       "    </tr>\n",
       "  </tbody>\n",
       "</table>\n",
       "</div>"
      ],
      "text/plain": [
       "   id      time  change_percent  last_price\n",
       "0   1  16:28:20            0.31     2667.48\n",
       "1   2  16:28:20            0.31     2667.48\n",
       "2   3  16:28:20            0.31     2667.48\n",
       "3   4  16:29:20            0.25     2665.90\n",
       "4   5  16:29:20            0.25     2665.90\n",
       "5   6  16:29:20            0.25     2665.90\n",
       "6   7  16:29:20            0.25     2665.90\n",
       "7   8  16:29:20            0.25     2665.90\n",
       "8   9  16:30:20            0.24     2665.39\n",
       "9  10  16:30:20            0.24     2665.39"
      ]
     },
     "execution_count": 3,
     "metadata": {},
     "output_type": "execute_result"
    }
   ],
   "source": [
    "df = pd.read_csv('avanza.csv')\n",
    "df.head(10)"
   ]
  }
 ],
 "metadata": {
  "kernelspec": {
   "display_name": "venv",
   "language": "python",
   "name": "python3"
  },
  "language_info": {
   "codemirror_mode": {
    "name": "ipython",
    "version": 3
   },
   "file_extension": ".py",
   "mimetype": "text/x-python",
   "name": "python",
   "nbconvert_exporter": "python",
   "pygments_lexer": "ipython3",
   "version": "3.11.1"
  },
  "orig_nbformat": 4,
  "vscode": {
   "interpreter": {
    "hash": "434855ea4c0e0168d12c30448c13ac08239c18a8ab3b6e44249e0061512dcc0c"
   }
  }
 },
 "nbformat": 4,
 "nbformat_minor": 2
}
